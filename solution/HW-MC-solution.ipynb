{
 "cells": [
  {
   "cell_type": "markdown",
   "id": "58eb5d8a",
   "metadata": {},
   "source": [
    "# Homework - Monte Carlo Simulation"
   ]
  },
  {
   "cell_type": "markdown",
   "id": "2e089235",
   "metadata": {},
   "source": [
    "강의에서 상관관계가 있는 난수를 제작해 동시에 두 개의 주가 시나리오를 제작해 보았습니다.<br>\n",
    "이 과제에서는 동시에 두 개의 시나리오를 제작하지 않고, 하나의 시나리오를 제작하고 그를 이용하여 다른 시나리오를 완성합니다. <br>"
   ]
  },
  {
   "cell_type": "markdown",
   "id": "f7d24b61",
   "metadata": {},
   "source": [
    "## Heston Model"
   ]
  },
  {
   "cell_type": "markdown",
   "id": "d7dc008d",
   "metadata": {},
   "source": [
    "블랙 숄즈 모형의 한계를 극복하는 방법 중 하나인 확률적 변동성 모형의 한 종류인 Heston 모형은 주가가 다음과 같은 확률과정을 따른다고 가정합니다.\n",
    "$$dS = rSdt + {\\sqrt {v_t}\\sqrt {dt}}S dW_1$$\n",
    "$$dv_t = \\kappa (\\theta-v_t)dt + \\sigma_t \\sqrt {v_t}S dW_2$$\n",
    "$$dW_1 dW_2 = \\rho dt$$\n",
    "$$\\sigma_t = \\sigma\\sqrt{dt}$$"
   ]
  },
  {
   "cell_type": "markdown",
   "id": "348d1bb7",
   "metadata": {},
   "source": [
    "상관관계가 있는 두 난수를 이용한 몬테카를로 시뮬레이션을 실행하여 다음 조건 하에서 콜옵션의 가격을 구하시오.\n",
    "$$S_0 = 100$$\n",
    "$$v_0 = 0.3$$\n",
    "$$\\kappa = 0.1$$\n",
    "$$K = 100$$\n",
    "$$\\theta = 0.2$$\n",
    "$$\\rho = 0.5$$\n",
    "$$\\sigma = 0.1$$\n",
    "$$r = 0.02$$\n",
    "$$T = 1$$\n",
    "Hint : 먼저 $v_t$의 시나리오를 완성시키고, $v_t$ 시나리오를 이용해 $S_t$의 시나리오를 만들 수 있습니다."
   ]
  },
  {
   "cell_type": "code",
   "execution_count": 1,
   "id": "6e156096",
   "metadata": {},
   "outputs": [],
   "source": [
    "import pandas as pd\n",
    "import numpy as np\n",
    "import matplotlib.pyplot as plt\n",
    "import numpy\n",
    "from scipy.stats import norm"
   ]
  },
  {
   "cell_type": "code",
   "execution_count": 2,
   "id": "291872cc",
   "metadata": {},
   "outputs": [],
   "source": [
    "s0 = 100\n",
    "v0 = 0.3\n",
    "kappa = 0.1\n",
    "K = 100\n",
    "theta = 0.2\n",
    "rho = 0.5\n",
    "sigma = 0.1\n",
    "r = 0.02\n",
    "T = 1\n",
    "days = 250\n",
    "nsimulation = 10000"
   ]
  },
  {
   "cell_type": "code",
   "execution_count": 3,
   "id": "bd34cafb",
   "metadata": {},
   "outputs": [],
   "source": [
    "Normal1 = np.random.normal(size=(T*days, nsimulation))\n",
    "Normal2 = np.random.normal(size=(T*days, nsimulation))\n",
    "nor1 = Normal1.reshape(1,T*days*nsimulation)\n",
    "nor2 = Normal2.reshape(1,T*days*nsimulation)\n",
    "nor2 = rho*nor1 + np.sqrt(1-rho**2)*nor2\n",
    "Normal1 = nor1.reshape(T*days,nsimulation)\n",
    "Normal2 = nor2.reshape(T*days,nsimulation)"
   ]
  },
  {
   "cell_type": "code",
   "execution_count": 4,
   "id": "2d682e54",
   "metadata": {},
   "outputs": [],
   "source": [
    "dt = 1/250\n",
    "pathv = np.zeros((T*days,nsimulation))\n",
    "pathv[0] = v0\n",
    "for i in range(1,T*days):\n",
    "    thetav = theta*np.ones(10000,)\n",
    "    drift = kappa*(thetav-pathv[i-1])\n",
    "    random = np.sqrt(dt)*sigma*Normal2[i-1]*np.sqrt(pathv[i-1])\n",
    "    pathv[i] = pathv[i-1]+drift*dt+random"
   ]
  },
  {
   "cell_type": "code",
   "execution_count": 5,
   "id": "feb6560d",
   "metadata": {},
   "outputs": [],
   "source": [
    "pathS = np.zeros((T*days+1,nsimulation))\n",
    "pathS[0] = s0\n",
    "for i in range(1,T*days+1):\n",
    "    rS = r*dt*pathS[i-1]\n",
    "    vS = np.sqrt(pathv[i-1])*pathS[i-1]*Normal1[i-1]*np.sqrt(dt)\n",
    "    pathS[i] = pathS[i-1]+rS+vS"
   ]
  },
  {
   "cell_type": "code",
   "execution_count": 6,
   "id": "51543483",
   "metadata": {},
   "outputs": [
    {
     "data": {
      "text/plain": [
       "22.489971064620924"
      ]
     },
     "execution_count": 6,
     "metadata": {},
     "output_type": "execute_result"
    }
   ],
   "source": [
    "np.mean(np.maximum(pathS[-1]-100,0))*np.exp(-r*T)"
   ]
  },
  {
   "cell_type": "markdown",
   "id": "65cc791b",
   "metadata": {},
   "source": [
    "heston 모형의 closed form solution과 비교했을 때 큰 차이가 나지 않는 것을 알 수 있습니다"
   ]
  },
  {
   "cell_type": "code",
   "execution_count": 7,
   "id": "9a9564b3",
   "metadata": {},
   "outputs": [],
   "source": [
    "def heston_charfunc(phi, S0, v0, kappa, theta, sigma, rho, lambd, tau, r):\n",
    "\n",
    "    # constants\n",
    "    a = kappa*theta\n",
    "    b = kappa+lambd\n",
    "\n",
    "    # common terms w.r.t phi\n",
    "    rspi = rho*sigma*phi*1j\n",
    "\n",
    "    # define d parameter given phi and b\n",
    "    d = np.sqrt( (rho*sigma*phi*1j - b)**2 + (phi*1j+phi**2)*sigma**2 )\n",
    "\n",
    "    # define g parameter given phi, b and d\n",
    "    g = (b-rspi+d)/(b-rspi-d)\n",
    "\n",
    "    # calculate characteristic function by components\n",
    "    exp1 = np.exp(r*phi*1j*tau)\n",
    "    term2 = S0**(phi*1j) * ( (1-g*np.exp(d*tau))/(1-g) )**(-2*a/sigma**2)\n",
    "    exp2 = np.exp(a*tau*(b-rspi+d)/sigma**2 + v0*(b-rspi+d)*( (1-np.exp(d*tau))/(1-g*np.exp(d*tau)) )/sigma**2)\n",
    "\n",
    "    return exp1*term2*exp2\n",
    "\n",
    "def integrand(phi, S0, v0, kappa, theta, sigma, rho, lambd, tau, r):\n",
    "    args = (S0, v0, kappa, theta, sigma, rho, lambd, tau, r)\n",
    "    numerator = np.exp(r*tau)*heston_charfunc(phi-1j,*args) - K*heston_charfunc(phi,*args)\n",
    "    denominator = 1j*phi*K**(1j*phi)\n",
    "    return numerator/denominator\n",
    "\n",
    "def heston_price_rec(S0, K, v0, kappa, theta, sigma, rho, lambd, tau, r):\n",
    "    args = (S0, v0, kappa, theta, sigma, rho, lambd, tau, r)\n",
    "\n",
    "    P, umax, N = 0, 100, 10000\n",
    "    dphi=umax/N #dphi is width\n",
    "\n",
    "    for i in range(1,N):\n",
    "        # rectangular integration\n",
    "        phi = dphi * (2*i + 1)/2 # midpoint to calculate height\n",
    "        numerator = np.exp(r*tau)*heston_charfunc(phi-1j,*args) - K * heston_charfunc(phi,*args)\n",
    "        denominator = 1j*phi*K**(1j*phi)\n",
    "\n",
    "        P += dphi * numerator/denominator\n",
    "\n",
    "    return np.real((S0 - K*np.exp(-r*tau))/2 + P/np.pi)"
   ]
  },
  {
   "cell_type": "code",
   "execution_count": 8,
   "id": "b3c18562",
   "metadata": {},
   "outputs": [
    {
     "data": {
      "text/plain": [
       "22.596944892633704"
      ]
     },
     "execution_count": 8,
     "metadata": {},
     "output_type": "execute_result"
    }
   ],
   "source": [
    "heston_price_rec(100, 100, 0.3, 0.1, 0.2, 0.1, 0.5, 0.2 ,1, 0.03)"
   ]
  },
  {
   "cell_type": "markdown",
   "id": "5a32c22c",
   "metadata": {},
   "source": [
    "위 heston_price_rec 함수에서 lambd는 variance risk premium을 의미하는데, 이 과제에서는 임의로 지정했지만 원래는 마켓 데이터와 맞는 값을 찾아 사용합니다."
   ]
  }
 ],
 "metadata": {
  "kernelspec": {
   "display_name": "Python 3 (ipykernel)",
   "language": "python",
   "name": "python3"
  },
  "language_info": {
   "codemirror_mode": {
    "name": "ipython",
    "version": 3
   },
   "file_extension": ".py",
   "mimetype": "text/x-python",
   "name": "python",
   "nbconvert_exporter": "python",
   "pygments_lexer": "ipython3",
   "version": "3.11.5"
  }
 },
 "nbformat": 4,
 "nbformat_minor": 5
}
