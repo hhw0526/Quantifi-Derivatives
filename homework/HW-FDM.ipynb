{
 "cells": [
  {
   "cell_type": "markdown",
   "id": "38af5201",
   "metadata": {},
   "source": [
    "# Homework - Finite Difference Method"
   ]
  },
  {
   "cell_type": "markdown",
   "id": "994b6499",
   "metadata": {},
   "source": [
    "강의에서 바닐라 옵션과 배리어 옵션의 가격결정을 진행해 보았습니다. <br>\n",
    "이 과제에서는 현재 증권사에서 발행되는 스텝다운 ELS의 가격결정을 진행합니다. <br>"
   ]
  },
  {
   "cell_type": "markdown",
   "id": "02a46ab4",
   "metadata": {},
   "source": [
    "## Step Down ELS"
   ]
  },
  {
   "cell_type": "markdown",
   "id": "69e15f0e",
   "metadata": {},
   "source": [
    "스텝다운 ELS는 다음과 같은 페이오프를 가집니다.\n",
    "1. 조기상환 일시에 기초자산의 가격이 조기상환 배리어보다 높거나 같은 경우, 초기부터 조기상환 일시까지 약정된 수익률을 지급합니다. <br>\n",
    "example) 약정금액이 1000, 약정 수익률이 단리 연 10%이고, 만기 $T = 1.5$, 조기상환 기회가 $t = [0.5,1]$ 이고, 조기상환 배리어가 ${S_t\\over S_0} >[0.5,0.5]$이면<br>\n",
    "\n",
    "case1) 초기로부터 반년 (125영업일) 후 기초자산의 가격이 초기의 60%일 때, 조기상환 조건을 충족하므로 $1000 \\times (1+0.1 \\times 0.5) = 1050$ 지급<br>\n",
    "\n",
    "case2) 첫 조기상환 조건을 만족시키지 못하고 그로부터 반년 후 기초자산의 가격이 초기의 55%일 때, 조기상환 조건을 충족하므로 $1000 \\times (1+0.1 \\times 1) = 1100$ 지급 <br>\n",
    "\n",
    "2. 모든 조기상환 기회에 조기상환 조건을 채우지 못한 경우, 만기상환이 진행됩니다. 만기상환 당시 기초자산의 가격이 원금보장 배리어보다 높은 경우, 초기부터 조기상환 일시까지 약정된 수익률을 지급합니다. 만약 기초자산의 가격이 원금보장 배리어보다 낮은 경우, ${S_T\\over S_0} \\times$ 약정금액을 지급합니다. 이때 $S_T$는 만기 시점에서의 기초자산의 가격이며, $S_0$는 초기 시점에서의 기초자산의 가격입니다.<br>\n",
    "\n",
    "example) 약정 수익률이 6%, 만기 $T = 1.5$, 만기 원금보장 조건이 $S_T > 0.5 \\times S_0$ 이면\n",
    "<br>\n",
    "case1) 조기상환 조건을 만족시키지 못하고 만기시점 기초자산의 가격이 초기의 55%일 때, 원금보장 조건을 충족하므로$1000 \\times (1+0.1 \\times 1.5) = 1150$ 지급 <br>\n",
    "case2) 조기상환 조건을 만족시키지 못하고 만기시점 기초자산의 가격이 초기의 45%일 때, 원금보장 조건을 미충족하므로$1000 \\times 0.45 = 450$ 지급 <br>\n",
    "\n",
    "다음 조건하에서 스텝다운 ELS의 현재 가치를 구하시오.\n",
    "$$S_0 = 100$$\n",
    "$$\\sigma= 0.3$$\n",
    "<center>약정금액 = 1000</center>  \n",
    "<center>약정 수익률 = $r_p$=단리 연 12%</center>  \n",
    "<center>무위험 수익률 = $r$ = 연속 복리 연 2%</center>  \n",
    "$$T = 3$$\n",
    "<center>조기상환 기회 : $t = [0.5,1,1.5,2,2.5]$</center>  \n",
    "<center>조기상환 배리어 : ${S_t \\over S_0} \\ge [0.9,0.8,0.8,0.7,0.7]$ </center>  \n",
    "<center>만기 원금보장 조건 : $S_T \\ge 0.6 \\times S_0$</center>  \n",
    "<br>\n",
    "Hint)기존의 FDM과 똑같이 진행하되, 조기상환 기회인 126일차, 251일차, 376일차, 501일차, 751일차 시점에서 기초자산의 가격이 조기상환 배리어보다 높은 경우일 때의 파생상품의 가치를 $1000 \\times (1+r_p\\times t)$로 치환하면 됩니다. <br>\n",
    "위 조건을 가지는 ELS를 편의를 위해 $T = [0.5,1,1.5,2,2.5,3], {S_t\\over S_0} \\ge [0.9,0.8,0.8,0.7,0.7,0.6], r_p = 0.12$ 조건을 가지는 ELS라 부르겠습니다."
   ]
  },
  {
   "cell_type": "markdown",
   "id": "84192d8f",
   "metadata": {},
   "source": [
    "## Knock-In Step Down ELS"
   ]
  },
  {
   "cell_type": "markdown",
   "id": "78d8258e",
   "metadata": {},
   "source": [
    "낙인 스텝다운 ELS는 보통 다음과 같이 표시됩니다. $T = [0.5,1,1.5,2,2.5,3], {S_t\\over S_0} \\ge [0.9,0.8,0.8,0.7,0.7,0.6], r_p = 0.12$,  KI = 0.4 <br>\n",
    "이는 만약 기초자산의 종가가 만기가 도래하기 전 한 번이라도 초기 기초자산의 가격의 40% 미만에 도달한 경우, 상환 배리어가 ${S_t \\over S_0} \\ge [0.9,0.8,0.8,0.7,0.7,0.4]$ 에서\n",
    "${S_t \\over S_0} \\ge [0.9,0.8,0.8,0.7,0.7, 0.6]$로 바뀌는 것을 의미합니다. <br>그 이외 모든 조건은 위 문제와 같을 때, 다음 조건을 가지는 낙인 스텝다운 ELS의 현재 가치를 구하시오.<br>\n",
    "\n",
    "\n",
    "<center>$T = [0.5,1,1.5,2,2.5,3], {S_t\\over S_0} \\ge [0.9,0.8,0.8,0.7,0.7,0.6], r_p = 0.12$,  KI = 0.4<center>"
   ]
  }
 ],
 "metadata": {
  "kernelspec": {
   "display_name": "Python 3 (ipykernel)",
   "language": "python",
   "name": "python3"
  },
  "language_info": {
   "codemirror_mode": {
    "name": "ipython",
    "version": 3
   },
   "file_extension": ".py",
   "mimetype": "text/x-python",
   "name": "python",
   "nbconvert_exporter": "python",
   "pygments_lexer": "ipython3",
   "version": "3.11.5"
  }
 },
 "nbformat": 4,
 "nbformat_minor": 5
}
