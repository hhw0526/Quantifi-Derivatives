{
 "cells": [
  {
   "cell_type": "markdown",
   "id": "58eb5d8a",
   "metadata": {},
   "source": [
    "# Homework - Monte Carlo Simulation"
   ]
  },
  {
   "cell_type": "markdown",
   "id": "2e089235",
   "metadata": {},
   "source": [
    "강의에서 상관관계가 있는 난수를 제작해 동시에 두 개의 주가 시나리오를 제작해 보았습니다.<br>\n",
    "이 과제에서는 동시에 두 개의 시나리오를 제작하지 않고, 하나의 시나리오를 제작하고 그를 이용하여 다른 시나리오를 완성합니다. <br>"
   ]
  },
  {
   "cell_type": "markdown",
   "id": "f7d24b61",
   "metadata": {},
   "source": [
    "## Heston Model"
   ]
  },
  {
   "cell_type": "markdown",
   "id": "d7dc008d",
   "metadata": {},
   "source": [
    "블랙 숄즈 모형의 한계를 극복하는 방법 중 하나인 확률적 변동성 모형의 한 종류인 Heston 모형은 주가가 다음과 같은 확률과정을 따른다고 가정합니다.\n",
    "$$dS = rSdt + {\\sqrt {v_t}\\sqrt {dt}}S dW_1$$\n",
    "$$dv_t = \\kappa (\\theta-v_t)dt + \\sigma_t \\sqrt {v_t}S dW_2$$\n",
    "$$dW_1 dW_2 = \\rho dt$$\n",
    "$$\\sigma_t = \\sigma\\sqrt{dt}$$"
   ]
  },
  {
   "cell_type": "markdown",
   "id": "348d1bb7",
   "metadata": {},
   "source": [
    "상관관계가 있는 두 난수를 이용한 몬테카를로 시뮬레이션을 실행하여 다음 조건 하에서 콜옵션의 가격을 구하시오.\n",
    "$$S_0 = 100$$\n",
    "$$v_0 = 0.3$$\n",
    "$$\\kappa = 0.1$$\n",
    "$$K = 100$$\n",
    "$$\\theta = 0.2$$\n",
    "$$\\rho = 0.5$$\n",
    "$$\\sigma = 0.1$$\n",
    "$$r = 0.02$$\n",
    "$$T = 1$$\n",
    "Hint : 먼저 $v_t$의 시나리오를 완성시키고, $v_t$ 시나리오를 이용해 $S_t$의 시나리오를 만들 수 있습니다."
   ]
  }
 ],
 "metadata": {
  "kernelspec": {
   "display_name": "Python 3 (ipykernel)",
   "language": "python",
   "name": "python3"
  },
  "language_info": {
   "codemirror_mode": {
    "name": "ipython",
    "version": 3
   },
   "file_extension": ".py",
   "mimetype": "text/x-python",
   "name": "python",
   "nbconvert_exporter": "python",
   "pygments_lexer": "ipython3",
   "version": "3.11.5"
  }
 },
 "nbformat": 4,
 "nbformat_minor": 5
}
